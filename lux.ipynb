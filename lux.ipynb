{
 "cells": [
  {
   "cell_type": "code",
   "execution_count": 1,
   "id": "61e53f60-6910-424a-8e23-17986fe385b3",
   "metadata": {},
   "outputs": [],
   "source": [
    "import pyforest"
   ]
  },
  {
   "cell_type": "code",
   "execution_count": 2,
   "id": "caf97bb2-a496-47fe-9837-85c582a56a4f",
   "metadata": {},
   "outputs": [
    {
     "data": {
      "application/javascript": [
       "\n",
       "        if (window._pyforest_update_imports_cell) { window._pyforest_update_imports_cell('import pandas as pd'); }\n",
       "    "
      ],
      "text/plain": [
       "<IPython.core.display.Javascript object>"
      ]
     },
     "metadata": {},
     "output_type": "display_data"
    }
   ],
   "source": [
    "wd = pd.read_csv('weather.csv')"
   ]
  },
  {
   "cell_type": "code",
   "execution_count": 3,
   "id": "ac50e055-8555-4929-8d76-d80832697e69",
   "metadata": {},
   "outputs": [
    {
     "data": {
      "text/html": [
       "<div>\n",
       "<style scoped>\n",
       "    .dataframe tbody tr th:only-of-type {\n",
       "        vertical-align: middle;\n",
       "    }\n",
       "\n",
       "    .dataframe tbody tr th {\n",
       "        vertical-align: top;\n",
       "    }\n",
       "\n",
       "    .dataframe thead th {\n",
       "        text-align: right;\n",
       "    }\n",
       "</style>\n",
       "<table border=\"1\" class=\"dataframe\">\n",
       "  <thead>\n",
       "    <tr style=\"text-align: right;\">\n",
       "      <th></th>\n",
       "      <th>Date/Time</th>\n",
       "      <th>Temp_C</th>\n",
       "      <th>Dew Point Temp_C</th>\n",
       "      <th>Rel Hum_%</th>\n",
       "      <th>Wind Speed_km/h</th>\n",
       "      <th>Visibility_km</th>\n",
       "      <th>Press_kPa</th>\n",
       "      <th>Weather</th>\n",
       "    </tr>\n",
       "  </thead>\n",
       "  <tbody>\n",
       "    <tr>\n",
       "      <th>0</th>\n",
       "      <td>1/1/2012 0:00</td>\n",
       "      <td>-1.8</td>\n",
       "      <td>-3.9</td>\n",
       "      <td>86</td>\n",
       "      <td>4</td>\n",
       "      <td>8.0</td>\n",
       "      <td>101.24</td>\n",
       "      <td>Fog</td>\n",
       "    </tr>\n",
       "    <tr>\n",
       "      <th>1</th>\n",
       "      <td>1/1/2012 1:00</td>\n",
       "      <td>-1.8</td>\n",
       "      <td>-3.7</td>\n",
       "      <td>87</td>\n",
       "      <td>4</td>\n",
       "      <td>8.0</td>\n",
       "      <td>101.24</td>\n",
       "      <td>Fog</td>\n",
       "    </tr>\n",
       "    <tr>\n",
       "      <th>2</th>\n",
       "      <td>1/1/2012 2:00</td>\n",
       "      <td>-1.8</td>\n",
       "      <td>-3.4</td>\n",
       "      <td>89</td>\n",
       "      <td>7</td>\n",
       "      <td>4.0</td>\n",
       "      <td>101.26</td>\n",
       "      <td>Freezing Drizzle,Fog</td>\n",
       "    </tr>\n",
       "    <tr>\n",
       "      <th>3</th>\n",
       "      <td>1/1/2012 3:00</td>\n",
       "      <td>-1.5</td>\n",
       "      <td>-3.2</td>\n",
       "      <td>88</td>\n",
       "      <td>6</td>\n",
       "      <td>4.0</td>\n",
       "      <td>101.27</td>\n",
       "      <td>Freezing Drizzle,Fog</td>\n",
       "    </tr>\n",
       "    <tr>\n",
       "      <th>4</th>\n",
       "      <td>1/1/2012 4:00</td>\n",
       "      <td>-1.5</td>\n",
       "      <td>-3.3</td>\n",
       "      <td>88</td>\n",
       "      <td>7</td>\n",
       "      <td>4.8</td>\n",
       "      <td>101.23</td>\n",
       "      <td>Fog</td>\n",
       "    </tr>\n",
       "  </tbody>\n",
       "</table>\n",
       "</div>"
      ],
      "text/plain": [
       "       Date/Time  Temp_C  Dew Point Temp_C  Rel Hum_%  Wind Speed_km/h  \\\n",
       "0  1/1/2012 0:00    -1.8              -3.9         86                4   \n",
       "1  1/1/2012 1:00    -1.8              -3.7         87                4   \n",
       "2  1/1/2012 2:00    -1.8              -3.4         89                7   \n",
       "3  1/1/2012 3:00    -1.5              -3.2         88                6   \n",
       "4  1/1/2012 4:00    -1.5              -3.3         88                7   \n",
       "\n",
       "   Visibility_km  Press_kPa               Weather  \n",
       "0            8.0     101.24                   Fog  \n",
       "1            8.0     101.24                   Fog  \n",
       "2            4.0     101.26  Freezing Drizzle,Fog  \n",
       "3            4.0     101.27  Freezing Drizzle,Fog  \n",
       "4            4.8     101.23                   Fog  "
      ]
     },
     "execution_count": 3,
     "metadata": {},
     "output_type": "execute_result"
    }
   ],
   "source": [
    "wd.head()"
   ]
  },
  {
   "cell_type": "code",
   "execution_count": 4,
   "id": "c51ea665-0b6b-48fb-ba3c-d14b248e2d72",
   "metadata": {},
   "outputs": [
    {
     "name": "stdout",
     "output_type": "stream",
     "text": [
      "             Date/Time  Temp_C  Dew Point Temp_C  Rel Hum_%  Wind Speed_km/h  \\\n",
      "67      1/3/2012 19:00   -16.9             -24.8         50               24   \n",
      "114     1/5/2012 18:00    -7.1             -14.4         56               11   \n",
      "115     1/5/2012 19:00    -9.2             -15.4         61                7   \n",
      "116     1/5/2012 20:00    -9.8             -15.7         62                9   \n",
      "117     1/5/2012 21:00    -9.0             -14.8         63               13   \n",
      "...                ...     ...               ...        ...              ...   \n",
      "8646   12/26/2012 6:00   -13.4             -14.8         89                4   \n",
      "8698  12/28/2012 10:00    -6.1              -8.6         82               19   \n",
      "8713   12/29/2012 1:00   -11.9             -13.6         87               11   \n",
      "8714   12/29/2012 2:00   -11.8             -13.1         90               13   \n",
      "8756  12/30/2012 20:00   -13.8             -16.5         80               24   \n",
      "\n",
      "      Visibility_km  Press_kPa Weather  \n",
      "67             25.0     101.74   Clear  \n",
      "114            25.0     100.71   Clear  \n",
      "115            25.0     100.80   Clear  \n",
      "116            25.0     100.83   Clear  \n",
      "117            25.0     100.83   Clear  \n",
      "...             ...        ...     ...  \n",
      "8646           25.0     102.47   Clear  \n",
      "8698           24.1     101.27   Clear  \n",
      "8713           25.0     101.31   Clear  \n",
      "8714           25.0     101.33   Clear  \n",
      "8756           25.0     101.52   Clear  \n",
      "\n",
      "[1326 rows x 8 columns]\n"
     ]
    }
   ],
   "source": [
    "clear_weather = wd[wd['Weather'] == 'Clear']\n",
    "print(clear_weather)"
   ]
  },
  {
   "cell_type": "code",
   "execution_count": 5,
   "id": "e07b6c3e-3b97-4483-9090-c0f228afd5b5",
   "metadata": {},
   "outputs": [
    {
     "name": "stdout",
     "output_type": "stream",
     "text": [
      "The wind speed was exactly 4km/hr              Date/Time  Temp_C  Dew Point Temp_C  Rel Hum_%  Wind Speed_km/h  \\\n",
      "0        1/1/2012 0:00    -1.8              -3.9         86                4   \n",
      "1        1/1/2012 1:00    -1.8              -3.7         87                4   \n",
      "96       1/5/2012 0:00    -8.8             -11.7         79                4   \n",
      "101      1/5/2012 5:00    -7.0              -9.5         82                4   \n",
      "146      1/7/2012 2:00    -8.1             -11.1         79                4   \n",
      "...                ...     ...               ...        ...              ...   \n",
      "8768   12/31/2012 8:00    -8.6             -10.3         87                4   \n",
      "8769   12/31/2012 9:00    -8.1              -9.6         89                4   \n",
      "8770  12/31/2012 10:00    -7.4              -8.9         89                4   \n",
      "8772  12/31/2012 12:00    -5.8              -7.5         88                4   \n",
      "8773  12/31/2012 13:00    -4.6              -6.6         86                4   \n",
      "\n",
      "      Visibility_km  Press_kPa       Weather  \n",
      "0               8.0     101.24           Fog  \n",
      "1               8.0     101.24           Fog  \n",
      "96              9.7     100.32          Snow  \n",
      "101             4.0     100.19          Snow  \n",
      "146            19.3     100.15        Cloudy  \n",
      "...             ...        ...           ...  \n",
      "8768            3.2     101.14  Snow Showers  \n",
      "8769            2.4     101.09          Snow  \n",
      "8770            6.4     101.05      Snow,Fog  \n",
      "8772           12.9     100.78          Snow  \n",
      "8773           12.9     100.63          Snow  \n",
      "\n",
      "[474 rows x 8 columns] times.\n"
     ]
    }
   ],
   "source": [
    "wind_speed = wd[wd['Wind Speed_km/h'] == 4]\n",
    "wind_speed.shape[0]\n",
    "print(f\"The wind speed was exactly 4km/hr {wind_speed} times.\")"
   ]
  },
  {
   "cell_type": "code",
   "execution_count": 6,
   "id": "f58940d0-ef2f-4a19-93a0-706022a871d1",
   "metadata": {},
   "outputs": [
    {
     "name": "stdout",
     "output_type": "stream",
     "text": [
      "There are no null values present\n"
     ]
    }
   ],
   "source": [
    "#check for null values\n",
    "null_values = wd.isnull().any().any()\n",
    "if null_values:\n",
    "    print(\"There are null values present\")\n",
    "else:\n",
    "    print(\"There are no null values present\")"
   ]
  },
  {
   "cell_type": "code",
   "execution_count": 7,
   "id": "6c9d1713-7d68-4771-a8ef-8f3503154017",
   "metadata": {},
   "outputs": [
    {
     "data": {
      "text/html": [
       "<div>\n",
       "<style scoped>\n",
       "    .dataframe tbody tr th:only-of-type {\n",
       "        vertical-align: middle;\n",
       "    }\n",
       "\n",
       "    .dataframe tbody tr th {\n",
       "        vertical-align: top;\n",
       "    }\n",
       "\n",
       "    .dataframe thead th {\n",
       "        text-align: right;\n",
       "    }\n",
       "</style>\n",
       "<table border=\"1\" class=\"dataframe\">\n",
       "  <thead>\n",
       "    <tr style=\"text-align: right;\">\n",
       "      <th></th>\n",
       "      <th>Date/Time</th>\n",
       "      <th>Temp_C</th>\n",
       "      <th>Dew Point Temp_C</th>\n",
       "      <th>Rel Hum_%</th>\n",
       "      <th>Wind Speed_km/h</th>\n",
       "      <th>Visibility_km</th>\n",
       "      <th>Press_kPa</th>\n",
       "      <th>Weather_condition</th>\n",
       "    </tr>\n",
       "  </thead>\n",
       "  <tbody>\n",
       "    <tr>\n",
       "      <th>0</th>\n",
       "      <td>1/1/2012 0:00</td>\n",
       "      <td>-1.8</td>\n",
       "      <td>-3.9</td>\n",
       "      <td>86</td>\n",
       "      <td>4</td>\n",
       "      <td>8.0</td>\n",
       "      <td>101.24</td>\n",
       "      <td>Fog</td>\n",
       "    </tr>\n",
       "    <tr>\n",
       "      <th>1</th>\n",
       "      <td>1/1/2012 1:00</td>\n",
       "      <td>-1.8</td>\n",
       "      <td>-3.7</td>\n",
       "      <td>87</td>\n",
       "      <td>4</td>\n",
       "      <td>8.0</td>\n",
       "      <td>101.24</td>\n",
       "      <td>Fog</td>\n",
       "    </tr>\n",
       "    <tr>\n",
       "      <th>2</th>\n",
       "      <td>1/1/2012 2:00</td>\n",
       "      <td>-1.8</td>\n",
       "      <td>-3.4</td>\n",
       "      <td>89</td>\n",
       "      <td>7</td>\n",
       "      <td>4.0</td>\n",
       "      <td>101.26</td>\n",
       "      <td>Freezing Drizzle,Fog</td>\n",
       "    </tr>\n",
       "    <tr>\n",
       "      <th>3</th>\n",
       "      <td>1/1/2012 3:00</td>\n",
       "      <td>-1.5</td>\n",
       "      <td>-3.2</td>\n",
       "      <td>88</td>\n",
       "      <td>6</td>\n",
       "      <td>4.0</td>\n",
       "      <td>101.27</td>\n",
       "      <td>Freezing Drizzle,Fog</td>\n",
       "    </tr>\n",
       "    <tr>\n",
       "      <th>4</th>\n",
       "      <td>1/1/2012 4:00</td>\n",
       "      <td>-1.5</td>\n",
       "      <td>-3.3</td>\n",
       "      <td>88</td>\n",
       "      <td>7</td>\n",
       "      <td>4.8</td>\n",
       "      <td>101.23</td>\n",
       "      <td>Fog</td>\n",
       "    </tr>\n",
       "  </tbody>\n",
       "</table>\n",
       "</div>"
      ],
      "text/plain": [
       "       Date/Time  Temp_C  Dew Point Temp_C  Rel Hum_%  Wind Speed_km/h  \\\n",
       "0  1/1/2012 0:00    -1.8              -3.9         86                4   \n",
       "1  1/1/2012 1:00    -1.8              -3.7         87                4   \n",
       "2  1/1/2012 2:00    -1.8              -3.4         89                7   \n",
       "3  1/1/2012 3:00    -1.5              -3.2         88                6   \n",
       "4  1/1/2012 4:00    -1.5              -3.3         88                7   \n",
       "\n",
       "   Visibility_km  Press_kPa     Weather_condition  \n",
       "0            8.0     101.24                   Fog  \n",
       "1            8.0     101.24                   Fog  \n",
       "2            4.0     101.26  Freezing Drizzle,Fog  \n",
       "3            4.0     101.27  Freezing Drizzle,Fog  \n",
       "4            4.8     101.23                   Fog  "
      ]
     },
     "execution_count": 7,
     "metadata": {},
     "output_type": "execute_result"
    }
   ],
   "source": [
    "#rename the weather column to weather_condition\n",
    "wd.rename(columns={'Weather': 'Weather_condition'}, inplace=True)\n",
    "wd.head()"
   ]
  },
  {
   "cell_type": "code",
   "execution_count": 8,
   "id": "85ef8be9-c12f-43d5-b130-b1ad7377d5f8",
   "metadata": {},
   "outputs": [
    {
     "name": "stdout",
     "output_type": "stream",
     "text": [
      "Mean visibility is: 27.664446721311478\n"
     ]
    }
   ],
   "source": [
    "if 'Visibility_km' in wd.columns:\n",
    "    #calculate the mean visibility\n",
    "    mean_visibility = wd['Visibility_km'].mean()\n",
    "    print(f\"Mean visibility is: {mean_visibility}\")"
   ]
  },
  {
   "cell_type": "code",
   "execution_count": 9,
   "id": "a891652d-8a80-4441-bf4b-a8f58c5cda18",
   "metadata": {},
   "outputs": [
    {
     "name": "stdout",
     "output_type": "stream",
     "text": [
      "The number of records where the wind speed is greater than 24km/hr and visibility is equal to 25 is :              Date/Time  Temp_C  Dew Point Temp_C  Rel Hum_%  Wind Speed_km/h  \\\n",
      "23      1/1/2012 23:00     5.3               2.0         79               30   \n",
      "24       1/2/2012 0:00     5.2               1.5         77               35   \n",
      "25       1/2/2012 1:00     4.6               0.0         72               39   \n",
      "26       1/2/2012 2:00     3.9              -0.9         71               32   \n",
      "27       1/2/2012 3:00     3.7              -1.5         69               33   \n",
      "...                ...     ...               ...        ...              ...   \n",
      "8705  12/28/2012 17:00    -8.6             -12.0         76               26   \n",
      "8753  12/30/2012 17:00   -12.1             -15.8         74               28   \n",
      "8755  12/30/2012 19:00   -13.4             -16.5         77               26   \n",
      "8759  12/30/2012 23:00   -12.1             -15.1         78               28   \n",
      "8760   12/31/2012 0:00   -11.1             -14.4         77               26   \n",
      "\n",
      "      Visibility_km  Press_kPa Weather_condition  \n",
      "23             25.0      99.31            Cloudy  \n",
      "24             25.0      99.26      Rain Showers  \n",
      "25             25.0      99.26            Cloudy  \n",
      "26             25.0      99.26     Mostly Cloudy  \n",
      "27             25.0      99.30     Mostly Cloudy  \n",
      "...             ...        ...               ...  \n",
      "8705           25.0     101.34      Mainly Clear  \n",
      "8753           25.0     101.26      Mainly Clear  \n",
      "8755           25.0     101.47      Mainly Clear  \n",
      "8759           25.0     101.52     Mostly Cloudy  \n",
      "8760           25.0     101.51            Cloudy  \n",
      "\n",
      "[308 rows x 8 columns]\n"
     ]
    }
   ],
   "source": [
    "filtered = wd[(wd['Wind Speed_km/h'] > 24) & (wd['Visibility_km'] == 25)]\n",
    "filtered.shape[0]\n",
    "print(f\"The number of records where the wind speed is greater than 24km/hr and visibility is equal to 25 is : {filtered}\")"
   ]
  },
  {
   "cell_type": "code",
   "execution_count": 18,
   "id": "15718a81-f6b3-494e-80cf-d49f296b7d0c",
   "metadata": {},
   "outputs": [
    {
     "name": "stdout",
     "output_type": "stream",
     "text": [
      "<pandas.core.groupby.generic.DataFrameGroupBy object at 0x0000025F59DA0AD0>\n"
     ]
    }
   ],
   "source": [
    "if 'Weather_condition' in wd.columns:\n",
    "    grouped = wd.groupby('Weather_condition')\n",
    "    print(grouped)"
   ]
  },
  {
   "cell_type": "code",
   "execution_count": 20,
   "id": "524b2451-703e-4399-8ff7-00533956c8b7",
   "metadata": {},
   "outputs": [
    {
     "data": {
      "text/plain": [
       "Weather_condition\n",
       "Clear                                      1326\n",
       "Cloudy                                     1728\n",
       "Drizzle                                      41\n",
       "Drizzle,Fog                                  80\n",
       "Drizzle,Ice Pellets,Fog                       1\n",
       "Drizzle,Snow                                  2\n",
       "Drizzle,Snow,Fog                             15\n",
       "Fog                                         150\n",
       "Freezing Drizzle                              7\n",
       "Freezing Drizzle,Fog                          6\n",
       "Freezing Drizzle,Haze                         3\n",
       "Freezing Drizzle,Snow                        11\n",
       "Freezing Fog                                  4\n",
       "Freezing Rain                                14\n",
       "Freezing Rain,Fog                             4\n",
       "Freezing Rain,Haze                            2\n",
       "Freezing Rain,Ice Pellets,Fog                 1\n",
       "Freezing Rain,Snow Grains                     1\n",
       "Haze                                         16\n",
       "Mainly Clear                               2106\n",
       "Moderate Rain,Fog                             1\n",
       "Moderate Snow                                 4\n",
       "Moderate Snow,Blowing Snow                    2\n",
       "Mostly Cloudy                              2069\n",
       "Rain                                        306\n",
       "Rain Showers                                188\n",
       "Rain Showers,Fog                              1\n",
       "Rain Showers,Snow Showers                     2\n",
       "Rain,Fog                                    116\n",
       "Rain,Haze                                     3\n",
       "Rain,Ice Pellets                              1\n",
       "Rain,Snow                                    18\n",
       "Rain,Snow Grains                              1\n",
       "Rain,Snow,Fog                                 1\n",
       "Rain,Snow,Ice Pellets                         4\n",
       "Snow                                        390\n",
       "Snow Pellets                                  1\n",
       "Snow Showers                                 60\n",
       "Snow Showers,Fog                              4\n",
       "Snow,Blowing Snow                            19\n",
       "Snow,Fog                                     37\n",
       "Snow,Haze                                     5\n",
       "Snow,Ice Pellets                              6\n",
       "Thunderstorms                                 2\n",
       "Thunderstorms,Heavy Rain Showers              1\n",
       "Thunderstorms,Moderate Rain Showers,Fog       1\n",
       "Thunderstorms,Rain                            3\n",
       "Thunderstorms,Rain Showers                   16\n",
       "Thunderstorms,Rain Showers,Fog                3\n",
       "Thunderstorms,Rain,Fog                        1\n",
       "dtype: int64"
      ]
     },
     "execution_count": 20,
     "metadata": {},
     "output_type": "execute_result"
    }
   ],
   "source": [
    "grouped.size()"
   ]
  },
  {
   "cell_type": "code",
   "execution_count": 22,
   "id": "1ee6cd21-8d86-4b49-a588-7ad29dc5e275",
   "metadata": {},
   "outputs": [],
   "source": [
    "numerical_columns = wd.select_dtypes(include=['number']).columns"
   ]
  },
  {
   "cell_type": "code",
   "execution_count": 23,
   "id": "a4e093c9-e599-4f23-8c3d-34aa130ee384",
   "metadata": {},
   "outputs": [
    {
     "name": "stdout",
     "output_type": "stream",
     "text": [
      "                                            Temp_C  Dew Point Temp_C  \\\n",
      "Weather_condition                                                      \n",
      "Clear                                     6.825716          0.089367   \n",
      "Cloudy                                    7.970544          2.375810   \n",
      "Drizzle                                   7.353659          5.504878   \n",
      "Drizzle,Fog                               8.067500          7.033750   \n",
      "Drizzle,Ice Pellets,Fog                   0.400000         -0.700000   \n",
      "Drizzle,Snow                              1.050000          0.150000   \n",
      "Drizzle,Snow,Fog                          0.693333          0.120000   \n",
      "Fog                                       4.303333          3.159333   \n",
      "Freezing Drizzle                         -5.657143         -8.000000   \n",
      "Freezing Drizzle,Fog                     -2.533333         -4.183333   \n",
      "Freezing Drizzle,Haze                    -5.433333         -8.000000   \n",
      "Freezing Drizzle,Snow                    -5.109091         -7.072727   \n",
      "Freezing Fog                             -7.575000         -9.250000   \n",
      "Freezing Rain                            -3.885714         -6.078571   \n",
      "Freezing Rain,Fog                        -2.225000         -3.750000   \n",
      "Freezing Rain,Haze                       -4.900000         -7.450000   \n",
      "Freezing Rain,Ice Pellets,Fog            -2.600000         -3.700000   \n",
      "Freezing Rain,Snow Grains                -5.000000         -7.300000   \n",
      "Haze                                     -0.200000         -2.975000   \n",
      "Mainly Clear                             12.558927          4.581671   \n",
      "Moderate Rain,Fog                         1.700000          0.800000   \n",
      "Moderate Snow                            -5.525000         -7.250000   \n",
      "Moderate Snow,Blowing Snow               -5.450000         -6.500000   \n",
      "Mostly Cloudy                            10.574287          3.131174   \n",
      "Rain                                      9.786275          7.042810   \n",
      "Rain Showers                             13.722340          9.187766   \n",
      "Rain Showers,Fog                         12.800000         12.100000   \n",
      "Rain Showers,Snow Showers                 2.150000         -1.500000   \n",
      "Rain,Fog                                  8.273276          7.219828   \n",
      "Rain,Haze                                 4.633333          2.066667   \n",
      "Rain,Ice Pellets                          0.600000         -0.600000   \n",
      "Rain,Snow                                 1.055556         -0.566667   \n",
      "Rain,Snow Grains                          1.900000         -2.100000   \n",
      "Rain,Snow,Fog                             0.800000          0.300000   \n",
      "Rain,Snow,Ice Pellets                     1.100000         -0.175000   \n",
      "Snow                                     -4.524103         -7.623333   \n",
      "Snow Pellets                              0.700000         -6.400000   \n",
      "Snow Showers                             -3.506667         -7.866667   \n",
      "Snow Showers,Fog                        -10.675000        -11.900000   \n",
      "Snow,Blowing Snow                        -5.410526         -7.621053   \n",
      "Snow,Fog                                 -5.075676         -6.364865   \n",
      "Snow,Haze                                -4.020000         -6.860000   \n",
      "Snow,Ice Pellets                         -1.883333         -3.666667   \n",
      "Thunderstorms                            24.150000         19.750000   \n",
      "Thunderstorms,Heavy Rain Showers         10.900000          9.000000   \n",
      "Thunderstorms,Moderate Rain Showers,Fog  19.600000         18.500000   \n",
      "Thunderstorms,Rain                       20.433333         18.533333   \n",
      "Thunderstorms,Rain Showers               20.037500         17.618750   \n",
      "Thunderstorms,Rain Showers,Fog           21.600000         18.700000   \n",
      "Thunderstorms,Rain,Fog                   20.600000         18.600000   \n",
      "\n",
      "                                         Rel Hum_%  Wind Speed_km/h  \\\n",
      "Weather_condition                                                     \n",
      "Clear                                    64.497738        10.557315   \n",
      "Cloudy                                   69.592593        16.127315   \n",
      "Drizzle                                  88.243902        16.097561   \n",
      "Drizzle,Fog                              93.275000        11.862500   \n",
      "Drizzle,Ice Pellets,Fog                  92.000000        20.000000   \n",
      "Drizzle,Snow                             93.500000        14.000000   \n",
      "Drizzle,Snow,Fog                         95.866667        15.533333   \n",
      "Fog                                      92.286667         7.946667   \n",
      "Freezing Drizzle                         83.571429        16.571429   \n",
      "Freezing Drizzle,Fog                     88.500000        17.000000   \n",
      "Freezing Drizzle,Haze                    82.000000        10.333333   \n",
      "Freezing Drizzle,Snow                    86.090909        16.272727   \n",
      "Freezing Fog                             87.750000         4.750000   \n",
      "Freezing Rain                            84.642857        19.214286   \n",
      "Freezing Rain,Fog                        89.500000        15.500000   \n",
      "Freezing Rain,Haze                       82.500000         7.500000   \n",
      "Freezing Rain,Ice Pellets,Fog            92.000000        28.000000   \n",
      "Freezing Rain,Snow Grains                84.000000        32.000000   \n",
      "Haze                                     81.625000        10.437500   \n",
      "Mainly Clear                             60.667142        14.144824   \n",
      "Moderate Rain,Fog                        94.000000        17.000000   \n",
      "Moderate Snow                            87.750000        33.750000   \n",
      "Moderate Snow,Blowing Snow               92.500000        40.000000   \n",
      "Mostly Cloudy                            62.102465        15.813920   \n",
      "Rain                                     83.624183        19.254902   \n",
      "Rain Showers                             75.159574        17.132979   \n",
      "Rain Showers,Fog                         96.000000        13.000000   \n",
      "Rain Showers,Snow Showers                76.500000        22.500000   \n",
      "Rain,Fog                                 93.189655        14.793103   \n",
      "Rain,Haze                                83.333333        11.666667   \n",
      "Rain,Ice Pellets                         92.000000        24.000000   \n",
      "Rain,Snow                                89.000000        28.388889   \n",
      "Rain,Snow Grains                         75.000000        26.000000   \n",
      "Rain,Snow,Fog                            96.000000         9.000000   \n",
      "Rain,Snow,Ice Pellets                    91.500000        23.250000   \n",
      "Snow                                     79.307692        20.038462   \n",
      "Snow Pellets                             59.000000        35.000000   \n",
      "Snow Showers                             72.350000        19.233333   \n",
      "Snow Showers,Fog                         90.750000        13.750000   \n",
      "Snow,Blowing Snow                        84.473684        34.842105   \n",
      "Snow,Fog                                 90.675676        17.324324   \n",
      "Snow,Haze                                80.600000         5.000000   \n",
      "Snow,Ice Pellets                         87.666667        23.833333   \n",
      "Thunderstorms                            77.000000         7.500000   \n",
      "Thunderstorms,Heavy Rain Showers         88.000000         9.000000   \n",
      "Thunderstorms,Moderate Rain Showers,Fog  93.000000        15.000000   \n",
      "Thunderstorms,Rain                       89.000000        15.666667   \n",
      "Thunderstorms,Rain Showers               86.375000        18.312500   \n",
      "Thunderstorms,Rain Showers,Fog           84.000000        19.666667   \n",
      "Thunderstorms,Rain,Fog                   88.000000        19.000000   \n",
      "\n",
      "                                         Visibility_km   Press_kPa  \n",
      "Weather_condition                                                   \n",
      "Clear                                        30.153243  101.587443  \n",
      "Cloudy                                       26.625752  100.911441  \n",
      "Drizzle                                      17.931707  100.435366  \n",
      "Drizzle,Fog                                   5.257500  100.786625  \n",
      "Drizzle,Ice Pellets,Fog                       4.000000  100.790000  \n",
      "Drizzle,Snow                                 10.500000  100.890000  \n",
      "Drizzle,Snow,Fog                              5.513333   99.281333  \n",
      "Fog                                           6.248000  101.184067  \n",
      "Freezing Drizzle                              9.200000  100.202857  \n",
      "Freezing Drizzle,Fog                          5.266667  100.441667  \n",
      "Freezing Drizzle,Haze                         2.666667  100.316667  \n",
      "Freezing Drizzle,Snow                         5.872727  100.520909  \n",
      "Freezing Fog                                  0.650000  102.320000  \n",
      "Freezing Rain                                 8.242857   99.647143  \n",
      "Freezing Rain,Fog                             7.550000   99.945000  \n",
      "Freezing Rain,Haze                            2.400000  100.375000  \n",
      "Freezing Rain,Ice Pellets,Fog                 8.000000  100.950000  \n",
      "Freezing Rain,Snow Grains                     4.800000   98.560000  \n",
      "Haze                                          7.831250  101.482500  \n",
      "Mainly Clear                                 34.264862  101.248832  \n",
      "Moderate Rain,Fog                             6.400000   99.980000  \n",
      "Moderate Snow                                 0.750000  100.275000  \n",
      "Moderate Snow,Blowing Snow                    0.600000  100.570000  \n",
      "Mostly Cloudy                                31.253842  101.025288  \n",
      "Rain                                         18.856536  100.233333  \n",
      "Rain Showers                                 22.816489  100.404043  \n",
      "Rain Showers,Fog                              6.400000   99.830000  \n",
      "Rain Showers,Snow Showers                    21.700000  101.100000  \n",
      "Rain,Fog                                      6.873276  100.500862  \n",
      "Rain,Haze                                     6.700000  100.540000  \n",
      "Rain,Ice Pellets                              9.700000  100.120000  \n",
      "Rain,Snow                                    11.672222   99.951111  \n",
      "Rain,Snow Grains                             25.000000  100.600000  \n",
      "Rain,Snow,Fog                                 6.400000  100.730000  \n",
      "Rain,Snow,Ice Pellets                         6.000000  100.105000  \n",
      "Snow                                         11.171795  100.536103  \n",
      "Snow Pellets                                  2.400000   99.700000  \n",
      "Snow Showers                                 20.158333  100.963500  \n",
      "Snow Showers,Fog                              7.025000  101.292500  \n",
      "Snow,Blowing Snow                             4.105263   99.704737  \n",
      "Snow,Fog                                      4.537838  100.688649  \n",
      "Snow,Haze                                     4.640000  100.782000  \n",
      "Snow,Ice Pellets                              7.416667  100.548333  \n",
      "Thunderstorms                                24.550000  100.230000  \n",
      "Thunderstorms,Heavy Rain Showers              2.400000  100.260000  \n",
      "Thunderstorms,Moderate Rain Showers,Fog       3.200000  100.010000  \n",
      "Thunderstorms,Rain                           19.833333  100.420000  \n",
      "Thunderstorms,Rain Showers                   15.893750  100.233750  \n",
      "Thunderstorms,Rain Showers,Fog                9.700000  100.063333  \n",
      "Thunderstorms,Rain,Fog                        4.800000  100.080000  \n"
     ]
    }
   ],
   "source": [
    "mean_values = grouped[numerical_columns].mean()\n",
    "print(mean_values)"
   ]
  },
  {
   "cell_type": "code",
   "execution_count": 25,
   "id": "64c3257a-e198-414f-8b97-4c415654e488",
   "metadata": {},
   "outputs": [],
   "source": [
    "required_columns ={'Weather_condition', 'Rel Hum_%', 'Visibility_km'}"
   ]
  },
  {
   "cell_type": "code",
   "execution_count": 26,
   "id": "6e0a1268-c4a2-4b8d-b87c-7fffd0bfbbd8",
   "metadata": {},
   "outputs": [
    {
     "name": "stdout",
     "output_type": "stream",
     "text": [
      "             Date/Time  Temp_C  Dew Point Temp_C  Rel Hum_%  Wind Speed_km/h  \\\n",
      "114     1/5/2012 18:00    -7.1             -14.4         56               11   \n",
      "115     1/5/2012 19:00    -9.2             -15.4         61                7   \n",
      "116     1/5/2012 20:00    -9.8             -15.7         62                9   \n",
      "117     1/5/2012 21:00    -9.0             -14.8         63               13   \n",
      "241     1/11/2012 1:00   -10.7             -17.8         56               17   \n",
      "...                ...     ...               ...        ...              ...   \n",
      "8646   12/26/2012 6:00   -13.4             -14.8         89                4   \n",
      "8698  12/28/2012 10:00    -6.1              -8.6         82               19   \n",
      "8713   12/29/2012 1:00   -11.9             -13.6         87               11   \n",
      "8714   12/29/2012 2:00   -11.8             -13.1         90               13   \n",
      "8756  12/30/2012 20:00   -13.8             -16.5         80               24   \n",
      "\n",
      "      Visibility_km  Press_kPa Weather_condition  \n",
      "114            25.0     100.71             Clear  \n",
      "115            25.0     100.80             Clear  \n",
      "116            25.0     100.83             Clear  \n",
      "117            25.0     100.83             Clear  \n",
      "241            25.0     101.49             Clear  \n",
      "...             ...        ...               ...  \n",
      "8646           25.0     102.47             Clear  \n",
      "8698           24.1     101.27             Clear  \n",
      "8713           25.0     101.31             Clear  \n",
      "8714           25.0     101.33             Clear  \n",
      "8756           25.0     101.52             Clear  \n",
      "\n",
      "[1220 rows x 8 columns]\n"
     ]
    }
   ],
   "source": [
    "if required_columns.issubset(wd.columns):\n",
    "    filtered_records = wd[(wd['Weather_condition'] == 'Clear') & ((wd['Rel Hum_%'] > 50) | (wd['Visibility_km'] > 40))]\n",
    "    print(filtered_records)"
   ]
  },
  {
   "cell_type": "code",
   "execution_count": 28,
   "id": "8a984d1f-95d2-4788-a00a-e1d0a650b36b",
   "metadata": {},
   "outputs": [
    {
     "name": "stdout",
     "output_type": "stream",
     "text": [
      "The no of unique weather conditions that include 'snow' is : 19\n"
     ]
    }
   ],
   "source": [
    "snow_conditions = wd[wd['Weather_condition'].str.contains('Snow', case=False, na=False)]\n",
    "unique_snow_conditions = snow_conditions['Weather_condition'].nunique()\n",
    "print(f\"The no of unique weather conditions that include 'snow' is : {unique_snow_conditions}\") "
   ]
  },
  {
   "cell_type": "code",
   "execution_count": null,
   "id": "1583e7dc-6e49-480c-98bb-f72eccbf2cbe",
   "metadata": {},
   "outputs": [],
   "source": []
  }
 ],
 "metadata": {
  "kernelspec": {
   "display_name": "Python 3 (ipykernel)",
   "language": "python",
   "name": "python3"
  },
  "language_info": {
   "codemirror_mode": {
    "name": "ipython",
    "version": 3
   },
   "file_extension": ".py",
   "mimetype": "text/x-python",
   "name": "python",
   "nbconvert_exporter": "python",
   "pygments_lexer": "ipython3",
   "version": "3.12.4"
  }
 },
 "nbformat": 4,
 "nbformat_minor": 5
}
